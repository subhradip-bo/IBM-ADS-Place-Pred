{
 "cells": [
  {
   "cell_type": "code",
   "execution_count": 107,
   "id": "ebcedff7",
   "metadata": {
    "id": "ebcedff7"
   },
   "outputs": [],
   "source": [
    "import warnings\n",
    "warnings.filterwarnings('ignore')"
   ]
  },
  {
   "cell_type": "markdown",
   "id": "f4a38b76",
   "metadata": {
    "id": "f4a38b76"
   },
   "source": [
    "### Import required libraries"
   ]
  },
  {
   "cell_type": "code",
   "execution_count": 108,
   "id": "d21b9a3a",
   "metadata": {
    "id": "d21b9a3a"
   },
   "outputs": [],
   "source": [
    "import numpy as np\n",
    "import pandas as pd\n",
    "import matplotlib.pyplot as plt\n",
    "import seaborn as sns"
   ]
  },
  {
   "cell_type": "markdown",
   "id": "7f676990",
   "metadata": {
    "id": "7f676990"
   },
   "source": [
    "### Read Data"
   ]
  },
  {
   "cell_type": "code",
   "execution_count": 109,
   "id": "de3c444f",
   "metadata": {
    "colab": {
     "base_uri": "https://localhost:8080/",
     "height": 423
    },
    "id": "de3c444f",
    "outputId": "4ed208fc-adc2-44ce-f27b-4cfdbc300541"
   },
   "outputs": [
    {
     "data": {
      "text/html": [
       "<div>\n",
       "<style scoped>\n",
       "    .dataframe tbody tr th:only-of-type {\n",
       "        vertical-align: middle;\n",
       "    }\n",
       "\n",
       "    .dataframe tbody tr th {\n",
       "        vertical-align: top;\n",
       "    }\n",
       "\n",
       "    .dataframe thead th {\n",
       "        text-align: right;\n",
       "    }\n",
       "</style>\n",
       "<table border=\"1\" class=\"dataframe\">\n",
       "  <thead>\n",
       "    <tr style=\"text-align: right;\">\n",
       "      <th></th>\n",
       "      <th>Age</th>\n",
       "      <th>Gender</th>\n",
       "      <th>Stream</th>\n",
       "      <th>Internships</th>\n",
       "      <th>CGPA</th>\n",
       "      <th>Hostel</th>\n",
       "      <th>HistoryOfBacklogs</th>\n",
       "      <th>PlacedOrNot</th>\n",
       "    </tr>\n",
       "  </thead>\n",
       "  <tbody>\n",
       "    <tr>\n",
       "      <th>0</th>\n",
       "      <td>22</td>\n",
       "      <td>Male</td>\n",
       "      <td>Electronics And Communication</td>\n",
       "      <td>1</td>\n",
       "      <td>8</td>\n",
       "      <td>1</td>\n",
       "      <td>1</td>\n",
       "      <td>1</td>\n",
       "    </tr>\n",
       "    <tr>\n",
       "      <th>1</th>\n",
       "      <td>21</td>\n",
       "      <td>Female</td>\n",
       "      <td>Computer Science</td>\n",
       "      <td>0</td>\n",
       "      <td>7</td>\n",
       "      <td>1</td>\n",
       "      <td>1</td>\n",
       "      <td>1</td>\n",
       "    </tr>\n",
       "    <tr>\n",
       "      <th>2</th>\n",
       "      <td>22</td>\n",
       "      <td>Female</td>\n",
       "      <td>Information Technology</td>\n",
       "      <td>1</td>\n",
       "      <td>6</td>\n",
       "      <td>0</td>\n",
       "      <td>0</td>\n",
       "      <td>1</td>\n",
       "    </tr>\n",
       "    <tr>\n",
       "      <th>3</th>\n",
       "      <td>21</td>\n",
       "      <td>Male</td>\n",
       "      <td>Information Technology</td>\n",
       "      <td>0</td>\n",
       "      <td>8</td>\n",
       "      <td>0</td>\n",
       "      <td>1</td>\n",
       "      <td>1</td>\n",
       "    </tr>\n",
       "    <tr>\n",
       "      <th>4</th>\n",
       "      <td>22</td>\n",
       "      <td>Male</td>\n",
       "      <td>Mechanical</td>\n",
       "      <td>0</td>\n",
       "      <td>8</td>\n",
       "      <td>1</td>\n",
       "      <td>0</td>\n",
       "      <td>1</td>\n",
       "    </tr>\n",
       "    <tr>\n",
       "      <th>...</th>\n",
       "      <td>...</td>\n",
       "      <td>...</td>\n",
       "      <td>...</td>\n",
       "      <td>...</td>\n",
       "      <td>...</td>\n",
       "      <td>...</td>\n",
       "      <td>...</td>\n",
       "      <td>...</td>\n",
       "    </tr>\n",
       "    <tr>\n",
       "      <th>2961</th>\n",
       "      <td>23</td>\n",
       "      <td>Male</td>\n",
       "      <td>Information Technology</td>\n",
       "      <td>0</td>\n",
       "      <td>7</td>\n",
       "      <td>0</td>\n",
       "      <td>0</td>\n",
       "      <td>0</td>\n",
       "    </tr>\n",
       "    <tr>\n",
       "      <th>2962</th>\n",
       "      <td>23</td>\n",
       "      <td>Male</td>\n",
       "      <td>Mechanical</td>\n",
       "      <td>1</td>\n",
       "      <td>7</td>\n",
       "      <td>1</td>\n",
       "      <td>0</td>\n",
       "      <td>0</td>\n",
       "    </tr>\n",
       "    <tr>\n",
       "      <th>2963</th>\n",
       "      <td>22</td>\n",
       "      <td>Male</td>\n",
       "      <td>Information Technology</td>\n",
       "      <td>1</td>\n",
       "      <td>7</td>\n",
       "      <td>0</td>\n",
       "      <td>0</td>\n",
       "      <td>0</td>\n",
       "    </tr>\n",
       "    <tr>\n",
       "      <th>2964</th>\n",
       "      <td>22</td>\n",
       "      <td>Male</td>\n",
       "      <td>Computer Science</td>\n",
       "      <td>1</td>\n",
       "      <td>7</td>\n",
       "      <td>0</td>\n",
       "      <td>0</td>\n",
       "      <td>0</td>\n",
       "    </tr>\n",
       "    <tr>\n",
       "      <th>2965</th>\n",
       "      <td>23</td>\n",
       "      <td>Male</td>\n",
       "      <td>Civil</td>\n",
       "      <td>0</td>\n",
       "      <td>8</td>\n",
       "      <td>0</td>\n",
       "      <td>0</td>\n",
       "      <td>1</td>\n",
       "    </tr>\n",
       "  </tbody>\n",
       "</table>\n",
       "<p>2966 rows × 8 columns</p>\n",
       "</div>"
      ],
      "text/plain": [
       "      Age  Gender                         Stream  Internships  CGPA  Hostel  \\\n",
       "0      22    Male  Electronics And Communication            1     8       1   \n",
       "1      21  Female               Computer Science            0     7       1   \n",
       "2      22  Female         Information Technology            1     6       0   \n",
       "3      21    Male         Information Technology            0     8       0   \n",
       "4      22    Male                     Mechanical            0     8       1   \n",
       "...   ...     ...                            ...          ...   ...     ...   \n",
       "2961   23    Male         Information Technology            0     7       0   \n",
       "2962   23    Male                     Mechanical            1     7       1   \n",
       "2963   22    Male         Information Technology            1     7       0   \n",
       "2964   22    Male               Computer Science            1     7       0   \n",
       "2965   23    Male                          Civil            0     8       0   \n",
       "\n",
       "      HistoryOfBacklogs  PlacedOrNot  \n",
       "0                     1            1  \n",
       "1                     1            1  \n",
       "2                     0            1  \n",
       "3                     1            1  \n",
       "4                     0            1  \n",
       "...                 ...          ...  \n",
       "2961                  0            0  \n",
       "2962                  0            0  \n",
       "2963                  0            0  \n",
       "2964                  0            0  \n",
       "2965                  0            1  \n",
       "\n",
       "[2966 rows x 8 columns]"
      ]
     },
     "execution_count": 109,
     "metadata": {},
     "output_type": "execute_result"
    }
   ],
   "source": [
    "data = pd.read_csv(\"collegePlace.csv\")\n",
    "data"
   ]
  },
  {
   "cell_type": "code",
   "execution_count": 110,
   "id": "4a0ca7d9",
   "metadata": {},
   "outputs": [
    {
     "name": "stdout",
     "output_type": "stream",
     "text": [
      "['Electronics And Communication' 'Computer Science'\n",
      " 'Information Technology' 'Mechanical' 'Electrical' 'Civil']\n"
     ]
    }
   ],
   "source": [
    "unique_categories = data['Stream'].unique()\n",
    "\n",
    "print(unique_categories)"
   ]
  },
  {
   "cell_type": "code",
   "execution_count": 111,
   "id": "36ac25dd",
   "metadata": {
    "colab": {
     "base_uri": "https://localhost:8080/"
    },
    "id": "36ac25dd",
    "outputId": "08ee282d-13cb-44a6-bf5c-fb8a144c6491"
   },
   "outputs": [
    {
     "data": {
      "text/plain": [
       "(2966, 8)"
      ]
     },
     "execution_count": 111,
     "metadata": {},
     "output_type": "execute_result"
    }
   ],
   "source": [
    "data.shape# size of the dataset"
   ]
  },
  {
   "cell_type": "markdown",
   "id": "bb8252b3",
   "metadata": {
    "id": "bb8252b3"
   },
   "source": [
    "## Duplicate Checking"
   ]
  },
  {
   "cell_type": "code",
   "execution_count": 112,
   "id": "be558937",
   "metadata": {
    "colab": {
     "base_uri": "https://localhost:8080/"
    },
    "id": "be558937",
    "outputId": "40954529-b93d-464d-b661-850051f50f61"
   },
   "outputs": [
    {
     "data": {
      "text/plain": [
       "1829"
      ]
     },
     "execution_count": 112,
     "metadata": {},
     "output_type": "execute_result"
    }
   ],
   "source": [
    "data.duplicated().sum()# total number of duplicate tuples"
   ]
  },
  {
   "cell_type": "markdown",
   "id": "5235f4a4",
   "metadata": {
    "id": "5235f4a4"
   },
   "source": [
    "> 1829 duplicate tuples present"
   ]
  },
  {
   "cell_type": "code",
   "execution_count": 113,
   "id": "7910b04a",
   "metadata": {
    "id": "7910b04a"
   },
   "outputs": [],
   "source": [
    "# data.drop_duplicates(inplace=True)"
   ]
  },
  {
   "cell_type": "code",
   "execution_count": 114,
   "id": "36aa1e47",
   "metadata": {
    "colab": {
     "base_uri": "https://localhost:8080/"
    },
    "id": "36aa1e47",
    "outputId": "ee0eae7b-175c-42b9-caa3-3f1d3cb70376"
   },
   "outputs": [
    {
     "data": {
      "text/plain": [
       "1829"
      ]
     },
     "execution_count": 114,
     "metadata": {},
     "output_type": "execute_result"
    }
   ],
   "source": [
    "data.duplicated().sum()# droping the duplicate tuples from the dataframe"
   ]
  },
  {
   "cell_type": "code",
   "execution_count": 115,
   "id": "d5610559",
   "metadata": {
    "colab": {
     "base_uri": "https://localhost:8080/"
    },
    "id": "d5610559",
    "outputId": "6769b151-bf30-4f21-82f5-922ffbdf9436"
   },
   "outputs": [
    {
     "data": {
      "text/plain": [
       "(2966, 8)"
      ]
     },
     "execution_count": 115,
     "metadata": {},
     "output_type": "execute_result"
    }
   ],
   "source": [
    "data.shape#size of dataset after removing the duplicate tuples"
   ]
  },
  {
   "cell_type": "markdown",
   "id": "fde8fc2d",
   "metadata": {
    "id": "fde8fc2d"
   },
   "source": [
    "## Missing Values"
   ]
  },
  {
   "cell_type": "code",
   "execution_count": 116,
   "id": "8cd154ed",
   "metadata": {
    "colab": {
     "base_uri": "https://localhost:8080/"
    },
    "id": "8cd154ed",
    "outputId": "f8d50d29-9253-4e83-db19-dbca8264eef7"
   },
   "outputs": [
    {
     "data": {
      "text/plain": [
       "Age                  0\n",
       "Gender               0\n",
       "Stream               0\n",
       "Internships          0\n",
       "CGPA                 0\n",
       "Hostel               0\n",
       "HistoryOfBacklogs    0\n",
       "PlacedOrNot          0\n",
       "dtype: int64"
      ]
     },
     "execution_count": 116,
     "metadata": {},
     "output_type": "execute_result"
    }
   ],
   "source": [
    "data.isnull().sum()"
   ]
  },
  {
   "cell_type": "code",
   "execution_count": 117,
   "id": "87d5ef15",
   "metadata": {
    "id": "87d5ef15"
   },
   "outputs": [],
   "source": [
    "from sklearn.preprocessing import LabelEncoder"
   ]
  },
  {
   "cell_type": "code",
   "execution_count": 118,
   "id": "e0e134ac",
   "metadata": {
    "id": "e0e134ac"
   },
   "outputs": [],
   "source": [
    "encoder=LabelEncoder()\n",
    "data.Stream=encoder.fit_transform(data.Stream)"
   ]
  },
  {
   "cell_type": "markdown",
   "id": "a0a4b30e",
   "metadata": {
    "id": "a0a4b30e"
   },
   "source": [
    "## Correlation\n",
    "Used to show linear association between each feature"
   ]
  },
  {
   "cell_type": "code",
   "execution_count": 119,
   "id": "74b4a73a",
   "metadata": {
    "colab": {
     "base_uri": "https://localhost:8080/",
     "height": 549
    },
    "id": "74b4a73a",
    "outputId": "882d7d8c-de2f-469a-b53d-c9cb5066af16"
   },
   "outputs": [
    {
     "data": {
      "image/png": "[encoded data removed]",
      "text/plain": [
       "<Figure size 640x480 with 2 Axes>"
      ]
     },
     "metadata": {},
     "output_type": "display_data"
    }
   ],
   "source": [
    "sns.heatmap(data.corr(), annot = True)\n",
    "plt.show()"
   ]
  },
  {
   "cell_type": "markdown",
   "id": "d41fea9f",
   "metadata": {
    "id": "d41fea9f"
   },
   "source": [
    "#### Interpretation\n",
    "• **CGPA** has <u>moderate +ve assosciated</u> with getting placed\\\n",
    "• **Number of Internships** have <u>very weak +ve or no association</u> with getting placed\\\n",
    "• **Age** has <u>very weak +ve or no assosciation</u> with getting placed\\\n",
    "• **History** of backlogs has <u>very weak -ve or no association</u> in getting placed\\\n",
    "• **Staying in hostel** and **Stream** both are categorical data so no meaningful linear relationship can be formed with other relations\\\n",
    "\n",
    "but i would drop hostel feature ad it does not make much scence."
   ]
  },
  {
   "cell_type": "code",
   "execution_count": 120,
   "id": "6305c816",
   "metadata": {
    "colab": {
     "base_uri": "https://localhost:8080/",
     "height": 1000
    },
    "id": "6305c816",
    "outputId": "9614d1d8-ce13-4374-992c-f99ba6105b40"
   },
   "outputs": [
    {
     "data": {
      "image/png": "[encoded data removed]",
      "text/plain": [
       "<Figure size 1750x1750 with 56 Axes>"
      ]
     },
     "metadata": {},
     "output_type": "display_data"
    }
   ],
   "source": [
    "sns.pairplot(data)\n",
    "plt.show()"
   ]
  },
  {
   "cell_type": "code",
   "execution_count": 121,
   "id": "d025702c",
   "metadata": {
    "id": "d025702c"
   },
   "outputs": [],
   "source": [
    "data = data.drop('Hostel', axis='columns')"
   ]
  },
  {
   "cell_type": "code",
   "execution_count": 122,
   "id": "c0ca90f2",
   "metadata": {
    "colab": {
     "base_uri": "https://localhost:8080/",
     "height": 423
    },
    "id": "c0ca90f2",
    "outputId": "2a81e002-d1d8-4023-d246-27d703578c6d"
   },
   "outputs": [
    {
     "data": {
      "text/html": [
       "<div>\n",
       "<style scoped>\n",
       "    .dataframe tbody tr th:only-of-type {\n",
       "        vertical-align: middle;\n",
       "    }\n",
       "\n",
       "    .dataframe tbody tr th {\n",
       "        vertical-align: top;\n",
       "    }\n",
       "\n",
       "    .dataframe thead th {\n",
       "        text-align: right;\n",
       "    }\n",
       "</style>\n",
       "<table border=\"1\" class=\"dataframe\">\n",
       "  <thead>\n",
       "    <tr style=\"text-align: right;\">\n",
       "      <th></th>\n",
       "      <th>Age</th>\n",
       "      <th>Gender</th>\n",
       "      <th>Stream</th>\n",
       "      <th>Internships</th>\n",
       "      <th>CGPA</th>\n",
       "      <th>HistoryOfBacklogs</th>\n",
       "      <th>PlacedOrNot</th>\n",
       "    </tr>\n",
       "  </thead>\n",
       "  <tbody>\n",
       "    <tr>\n",
       "      <th>0</th>\n",
       "      <td>22</td>\n",
       "      <td>Male</td>\n",
       "      <td>3</td>\n",
       "      <td>1</td>\n",
       "      <td>8</td>\n",
       "      <td>1</td>\n",
       "      <td>1</td>\n",
       "    </tr>\n",
       "    <tr>\n",
       "      <th>1</th>\n",
       "      <td>21</td>\n",
       "      <td>Female</td>\n",
       "      <td>1</td>\n",
       "      <td>0</td>\n",
       "      <td>7</td>\n",
       "      <td>1</td>\n",
       "      <td>1</td>\n",
       "    </tr>\n",
       "    <tr>\n",
       "      <th>2</th>\n",
       "      <td>22</td>\n",
       "      <td>Female</td>\n",
       "      <td>4</td>\n",
       "      <td>1</td>\n",
       "      <td>6</td>\n",
       "      <td>0</td>\n",
       "      <td>1</td>\n",
       "    </tr>\n",
       "    <tr>\n",
       "      <th>3</th>\n",
       "      <td>21</td>\n",
       "      <td>Male</td>\n",
       "      <td>4</td>\n",
       "      <td>0</td>\n",
       "      <td>8</td>\n",
       "      <td>1</td>\n",
       "      <td>1</td>\n",
       "    </tr>\n",
       "    <tr>\n",
       "      <th>4</th>\n",
       "      <td>22</td>\n",
       "      <td>Male</td>\n",
       "      <td>5</td>\n",
       "      <td>0</td>\n",
       "      <td>8</td>\n",
       "      <td>0</td>\n",
       "      <td>1</td>\n",
       "    </tr>\n",
       "    <tr>\n",
       "      <th>...</th>\n",
       "      <td>...</td>\n",
       "      <td>...</td>\n",
       "      <td>...</td>\n",
       "      <td>...</td>\n",
       "      <td>...</td>\n",
       "      <td>...</td>\n",
       "      <td>...</td>\n",
       "    </tr>\n",
       "    <tr>\n",
       "      <th>2961</th>\n",
       "      <td>23</td>\n",
       "      <td>Male</td>\n",
       "      <td>4</td>\n",
       "      <td>0</td>\n",
       "      <td>7</td>\n",
       "      <td>0</td>\n",
       "      <td>0</td>\n",
       "    </tr>\n",
       "    <tr>\n",
       "      <th>2962</th>\n",
       "      <td>23</td>\n",
       "      <td>Male</td>\n",
       "      <td>5</td>\n",
       "      <td>1</td>\n",
       "      <td>7</td>\n",
       "      <td>0</td>\n",
       "      <td>0</td>\n",
       "    </tr>\n",
       "    <tr>\n",
       "      <th>2963</th>\n",
       "      <td>22</td>\n",
       "      <td>Male</td>\n",
       "      <td>4</td>\n",
       "      <td>1</td>\n",
       "      <td>7</td>\n",
       "      <td>0</td>\n",
       "      <td>0</td>\n",
       "    </tr>\n",
       "    <tr>\n",
       "      <th>2964</th>\n",
       "      <td>22</td>\n",
       "      <td>Male</td>\n",
       "      <td>1</td>\n",
       "      <td>1</td>\n",
       "      <td>7</td>\n",
       "      <td>0</td>\n",
       "      <td>0</td>\n",
       "    </tr>\n",
       "    <tr>\n",
       "      <th>2965</th>\n",
       "      <td>23</td>\n",
       "      <td>Male</td>\n",
       "      <td>0</td>\n",
       "      <td>0</td>\n",
       "      <td>8</td>\n",
       "      <td>0</td>\n",
       "      <td>1</td>\n",
       "    </tr>\n",
       "  </tbody>\n",
       "</table>\n",
       "<p>2966 rows × 7 columns</p>\n",
       "</div>"
      ],
      "text/plain": [
       "      Age  Gender  Stream  Internships  CGPA  HistoryOfBacklogs  PlacedOrNot\n",
       "0      22    Male       3            1     8                  1            1\n",
       "1      21  Female       1            0     7                  1            1\n",
       "2      22  Female       4            1     6                  0            1\n",
       "3      21    Male       4            0     8                  1            1\n",
       "4      22    Male       5            0     8                  0            1\n",
       "...   ...     ...     ...          ...   ...                ...          ...\n",
       "2961   23    Male       4            0     7                  0            0\n",
       "2962   23    Male       5            1     7                  0            0\n",
       "2963   22    Male       4            1     7                  0            0\n",
       "2964   22    Male       1            1     7                  0            0\n",
       "2965   23    Male       0            0     8                  0            1\n",
       "\n",
       "[2966 rows x 7 columns]"
      ]
     },
     "execution_count": 122,
     "metadata": {},
     "output_type": "execute_result"
    }
   ],
   "source": [
    "data"
   ]
  },
  {
   "cell_type": "code",
   "execution_count": 123,
   "id": "69eac80f",
   "metadata": {},
   "outputs": [
    {
     "name": "stdout",
     "output_type": "stream",
     "text": [
      "Age                      22\n",
      "Gender               Female\n",
      "Stream                    2\n",
      "Internships               1\n",
      "CGPA                      8\n",
      "HistoryOfBacklogs         1\n",
      "PlacedOrNot               1\n",
      "Name: 11, dtype: object\n"
     ]
    }
   ],
   "source": [
    "print(data.loc[11])"
   ]
  },
  {
   "cell_type": "markdown",
   "id": "50d18ee0",
   "metadata": {
    "id": "50d18ee0"
   },
   "source": [
    "## Encoding the data"
   ]
  },
  {
   "cell_type": "code",
   "execution_count": 124,
   "id": "e36e90be",
   "metadata": {
    "colab": {
     "base_uri": "https://localhost:8080/"
    },
    "id": "e36e90be",
    "outputId": "6a25c047-b546-44b7-a11e-eb050a8a8fd3"
   },
   "outputs": [
    {
     "data": {
      "text/plain": [
       "0       1\n",
       "1       0\n",
       "2       0\n",
       "3       1\n",
       "4       1\n",
       "       ..\n",
       "2961    1\n",
       "2962    1\n",
       "2963    1\n",
       "2964    1\n",
       "2965    1\n",
       "Name: Gender, Length: 2966, dtype: int32"
      ]
     },
     "execution_count": 124,
     "metadata": {},
     "output_type": "execute_result"
    }
   ],
   "source": [
    "data.Gender=encoder.fit_transform(data.Gender)\n",
    "data.Gender"
   ]
  },
  {
   "cell_type": "markdown",
   "id": "27d5df4a",
   "metadata": {
    "id": "27d5df4a"
   },
   "source": [
    "## Spliting the dataset into training and testing parts"
   ]
  },
  {
   "cell_type": "code",
   "execution_count": 125,
   "id": "bce409ca",
   "metadata": {
    "id": "bce409ca"
   },
   "outputs": [],
   "source": [
    "X=data.iloc[:,:-1].values\n",
    "y=data.iloc[:,-1].values"
   ]
  },
  {
   "cell_type": "code",
   "execution_count": 126,
   "id": "a584a7e5",
   "metadata": {
    "colab": {
     "base_uri": "https://localhost:8080/"
    },
    "id": "a584a7e5",
    "outputId": "76cd74fa-ff3f-4eb9-feba-a6ea6f0e6c81"
   },
   "outputs": [
    {
     "data": {
      "text/plain": [
       "array([[22,  1,  3,  1,  8,  1],\n",
       "       [21,  0,  1,  0,  7,  1],\n",
       "       [22,  0,  4,  1,  6,  0],\n",
       "       ...,\n",
       "       [22,  1,  4,  1,  7,  0],\n",
       "       [22,  1,  1,  1,  7,  0],\n",
       "       [23,  1,  0,  0,  8,  0]], dtype=int64)"
      ]
     },
     "execution_count": 126,
     "metadata": {},
     "output_type": "execute_result"
    }
   ],
   "source": [
    "X"
   ]
  },
  {
   "cell_type": "code",
   "execution_count": 127,
   "id": "1d657811",
   "metadata": {
    "colab": {
     "base_uri": "https://localhost:8080/"
    },
    "id": "1d657811",
    "outputId": "c084d8c7-ec31-49dd-ceb8-c08d792aa014"
   },
   "outputs": [
    {
     "data": {
      "text/plain": [
       "array([1, 1, 1, ..., 0, 0, 1], dtype=int64)"
      ]
     },
     "execution_count": 127,
     "metadata": {},
     "output_type": "execute_result"
    }
   ],
   "source": [
    "y"
   ]
  },
  {
   "cell_type": "code",
   "execution_count": 128,
   "id": "5584a96a",
   "metadata": {
    "id": "5584a96a"
   },
   "outputs": [],
   "source": [
    "from sklearn.model_selection import train_test_split\n",
    "X_train, X_test, y_train, y_test = train_test_split(X, y,test_size=.20, random_state=2)"
   ]
  },
  {
   "cell_type": "code",
   "execution_count": 129,
   "id": "ef6aad46",
   "metadata": {
    "colab": {
     "base_uri": "https://localhost:8080/"
    },
    "id": "ef6aad46",
    "outputId": "a395daa4-a8ef-4db9-8c99-418b37294b82"
   },
   "outputs": [
    {
     "name": "stdout",
     "output_type": "stream",
     "text": [
      "xtrain : (2372, 6)\n",
      "xtest: (594, 6)\n",
      "\n",
      " ytrain: (2372,)\n",
      "ytest: (594,)\n"
     ]
    }
   ],
   "source": [
    "print('xtrain :',X_train.shape)\n",
    "print('xtest:', X_test.shape)\n",
    "print('\\n ytrain:',y_train.shape)\n",
    "print('ytest:',y_test.shape)"
   ]
  },
  {
   "cell_type": "code",
   "execution_count": 130,
   "id": "053fc8dd",
   "metadata": {},
   "outputs": [
    {
     "name": "stdout",
     "output_type": "stream",
     "text": [
      "[[22  1  4  0  7  0]\n",
      " [20  1  5  1  7  0]\n",
      " [22  1  1  0  8  1]\n",
      " ...\n",
      " [24  1  3  0  6  0]\n",
      " [22  0  3  0  8  0]\n",
      " [22  1  0  0  6  0]]\n"
     ]
    }
   ],
   "source": [
    "print(X_test)"
   ]
  },
  {
   "cell_type": "code",
   "execution_count": 131,
   "id": "d28207d8",
   "metadata": {},
   "outputs": [
    {
     "name": "stdout",
     "output_type": "stream",
     "text": [
      "[0 0 1 1 1 1 1 1 0 0 0 1 0 1 1 0 0 1 1 1 1 1 1 1 1 0 0 0 1 0 0 0 0 0 0 0 0\n",
      " 1 0 1 1 0 1 1 0 0 1 1 1 1 1 1 0 0 0 0 0 0 1 0 0 1 0 0 1 1 1 1 1 1 0 1 1 1\n",
      " 1 0 0 1 1 0 1 1 1 1 0 0 0 0 0 0 0 1 0 0 1 1 1 1 0 0 0 1 0 0 0 0 1 1 1 1 1\n",
      " 1 1 0 1 0 0 0 0 0 1 1 1 1 0 1 1 0 0 1 0 0 0 0 1 1 0 1 0 0 1 0 0 0 1 0 1 0\n",
      " 0 0 1 0 0 1 1 1 1 0 1 0 1 0 1 0 1 1 1 1 0 0 1 1 0 1 1 0 1 0 0 0 0 0 0 1 1\n",
      " 1 1 0 0 1 0 1 0 0 1 1 1 1 0 1 1 0 1 0 1 1 0 0 0 0 1 0 0 1 1 1 0 1 1 1 0 1\n",
      " 0 1 0 0 0 1 1 0 1 1 1 1 1 0 1 1 0 0 0 1 1 1 0 0 1 0 0 1 1 1 0 1 1 1 0 1 1\n",
      " 0 0 1 0 0 1 0 0 1 1 0 1 1 0 1 1 0 0 0 0 0 1 0 1 0 0 1 1 1 1 0 0 1 0 1 1 0\n",
      " 1 0 1 0 1 1 0 1 0 0 1 1 1 0 1 0 1 0 1 1 0 0 1 1 1 0 1 1 1 1 1 1 0 1 1 1 1\n",
      " 1 1 0 0 1 0 0 0 1 1 0 0 0 1 0 1 0 1 1 0 1 1 1 0 0 0 1 0 1 1 0 0 1 0 0 1 0\n",
      " 1 1 0 1 1 1 0 0 1 0 1 1 0 1 0 1 0 0 1 0 1 1 1 1 0 1 0 0 1 0 1 0 1 1 1 0 1\n",
      " 1 1 1 0 1 0 0 0 0 1 0 1 0 0 1 1 1 0 1 0 0 0 0 1 0 0 1 1 1 0 0 0 1 0 1 0 0\n",
      " 0 0 1 0 1 0 1 1 1 1 1 0 0 1 0 1 0 1 1 0 0 0 1 1 1 0 1 1 0 0 1 1 0 1 0 1 1\n",
      " 0 0 0 0 1 0 1 1 1 0 0 0 1 0 0 1 0 1 0 1 0 1 0 0 1 1 1 1 1 0 0 1 1 0 0 1 0\n",
      " 0 0 1 0 1 0 0 1 1 0 1 1 1 1 1 0 0 1 1 1 1 0 1 0 1 0 1 0 0 1 0 1 1 1 1 1 1\n",
      " 0 0 1 0 0 1 0 1 1 1 0 0 0 1 0 0 0 1 1 0 1 1 1 1 0 0 0 1 1 0 1 0 0 1 1 0 1\n",
      " 1 0]\n"
     ]
    }
   ],
   "source": [
    "print(y_test)"
   ]
  },
  {
   "cell_type": "markdown",
   "id": "233936ed",
   "metadata": {
    "id": "233936ed"
   },
   "source": [
    "## Model Building"
   ]
  },
  {
   "cell_type": "code",
   "execution_count": null,
   "id": "f9acb1dd",
   "metadata": {},
   "outputs": [],
   "source": []
  },
  {
   "cell_type": "markdown",
   "id": "3be3006b",
   "metadata": {
    "id": "3be3006b"
   },
   "source": [
    "### Logistic Regression"
   ]
  },
  {
   "cell_type": "code",
   "execution_count": 25,
   "id": "36383676",
   "metadata": {
    "id": "36383676"
   },
   "outputs": [],
   "source": [
    "from sklearn.linear_model import LogisticRegression\n",
    "LogR = LogisticRegression()"
   ]
  },
  {
   "cell_type": "code",
   "execution_count": 26,
   "id": "dfc7aacf",
   "metadata": {
    "colab": {
     "base_uri": "https://localhost:8080/",
     "height": 74
    },
    "id": "dfc7aacf",
    "outputId": "e3438948-57e7-475d-dabf-a316318ee429"
   },
   "outputs": [
    {
     "data": {
      "text/plain": [
       "LogisticRegression()"
      ]
     },
     "execution_count": 26,
     "metadata": {},
     "output_type": "execute_result"
    }
   ],
   "source": [
    "# fitting the model\n",
    "LogR.fit(X_train, y_train)"
   ]
  },
  {
   "cell_type": "code",
   "execution_count": 27,
   "id": "b23e6381",
   "metadata": {
    "id": "b23e6381"
   },
   "outputs": [],
   "source": [
    "y_pred_train_LR=LogR.predict(X_train)"
   ]
  },
  {
   "cell_type": "code",
   "execution_count": 28,
   "id": "04c07ab3",
   "metadata": {
    "colab": {
     "base_uri": "https://localhost:8080/"
    },
    "id": "04c07ab3",
    "outputId": "36cb6130-6aff-4cb4-f75c-36448af9a5ef"
   },
   "outputs": [
    {
     "name": "stdout",
     "output_type": "stream",
     "text": [
      "0.7542087542087542\n"
     ]
    }
   ],
   "source": [
    "score = LogR.score(X_test, y_test)\n",
    "print(score)"
   ]
  },
  {
   "cell_type": "code",
   "execution_count": 29,
   "id": "ca68be5f",
   "metadata": {
    "colab": {
     "base_uri": "https://localhost:8080/"
    },
    "id": "ca68be5f",
    "outputId": "043b224d-a9c7-40f7-ab1a-a623eebeba81"
   },
   "outputs": [
    {
     "data": {
      "text/plain": [
       "0.7723440134907251"
      ]
     },
     "execution_count": 29,
     "metadata": {},
     "output_type": "execute_result"
    }
   ],
   "source": [
    "from sklearn.metrics import accuracy_score\n",
    "accuracy_score(y_train, y_pred_train_LR)"
   ]
  },
  {
   "cell_type": "code",
   "execution_count": 30,
   "id": "8b53c07b",
   "metadata": {
    "colab": {
     "base_uri": "https://localhost:8080/"
    },
    "id": "8b53c07b",
    "outputId": "cedba429-ee98-4a5d-f0a5-2f5428777eb6"
   },
   "outputs": [
    {
     "data": {
      "text/plain": [
       "array([[ 781,  265],\n",
       "       [ 275, 1051]], dtype=int64)"
      ]
     },
     "execution_count": 30,
     "metadata": {},
     "output_type": "execute_result"
    }
   ],
   "source": [
    "from sklearn.metrics import confusion_matrix\n",
    "confusion_matrix(y_train, y_pred_train_LR)"
   ]
  },
  {
   "cell_type": "code",
   "execution_count": 31,
   "id": "1b9edc57",
   "metadata": {
    "id": "1b9edc57"
   },
   "outputs": [],
   "source": [
    "y_pred_test_LR=LogR.predict(X_test)"
   ]
  },
  {
   "cell_type": "code",
   "execution_count": 32,
   "id": "30a1899e",
   "metadata": {
    "colab": {
     "base_uri": "https://localhost:8080/"
    },
    "id": "30a1899e",
    "outputId": "8787d831-05a5-4d80-f82a-4e14e3263c70"
   },
   "outputs": [
    {
     "data": {
      "text/plain": [
       "0.7542087542087542"
      ]
     },
     "execution_count": 32,
     "metadata": {},
     "output_type": "execute_result"
    }
   ],
   "source": [
    "accuracy_score(y_test, y_pred_test_LR)"
   ]
  },
  {
   "cell_type": "code",
   "execution_count": 33,
   "id": "161eca42",
   "metadata": {
    "colab": {
     "base_uri": "https://localhost:8080/"
    },
    "id": "161eca42",
    "outputId": "d2364e18-117a-4fc6-a369-e02759a3a92b"
   },
   "outputs": [
    {
     "data": {
      "text/plain": [
       "array([[198,  83],\n",
       "       [ 63, 250]], dtype=int64)"
      ]
     },
     "execution_count": 33,
     "metadata": {},
     "output_type": "execute_result"
    }
   ],
   "source": [
    "confusion_matrix(y_test, y_pred_test_LR)"
   ]
  },
  {
   "cell_type": "markdown",
   "id": "ac29a13b",
   "metadata": {
    "id": "ac29a13b"
   },
   "source": [
    "### Naive Bayes Classifier"
   ]
  },
  {
   "cell_type": "code",
   "execution_count": 34,
   "id": "abfb92cb",
   "metadata": {
    "id": "abfb92cb"
   },
   "outputs": [],
   "source": [
    "from sklearn.naive_bayes import GaussianNB\n",
    "gnb = GaussianNB()"
   ]
  },
  {
   "cell_type": "code",
   "execution_count": 35,
   "id": "72d84ee5",
   "metadata": {
    "colab": {
     "base_uri": "https://localhost:8080/",
     "height": 74
    },
    "id": "72d84ee5",
    "outputId": "e12518df-3fba-447b-e092-6139fa2ef537"
   },
   "outputs": [
    {
     "data": {
      "text/plain": [
       "GaussianNB()"
      ]
     },
     "execution_count": 35,
     "metadata": {},
     "output_type": "execute_result"
    }
   ],
   "source": [
    "gnb.fit(X_train, y_train)"
   ]
  },
  {
   "cell_type": "code",
   "execution_count": 36,
   "id": "e2d66629",
   "metadata": {
    "id": "e2d66629"
   },
   "outputs": [],
   "source": [
    "y_pred_train_NB=gnb.predict(X_train)"
   ]
  },
  {
   "cell_type": "code",
   "execution_count": 37,
   "id": "5d8e5734",
   "metadata": {
    "colab": {
     "base_uri": "https://localhost:8080/"
    },
    "id": "5d8e5734",
    "outputId": "1e960084-b556-491b-9e2a-c871ada05255"
   },
   "outputs": [
    {
     "data": {
      "text/plain": [
       "0.8145025295109612"
      ]
     },
     "execution_count": 37,
     "metadata": {},
     "output_type": "execute_result"
    }
   ],
   "source": [
    "accuracy_score(y_train, y_pred_train_NB)"
   ]
  },
  {
   "cell_type": "code",
   "execution_count": 38,
   "id": "18b9e74c",
   "metadata": {
    "colab": {
     "base_uri": "https://localhost:8080/"
    },
    "id": "18b9e74c",
    "outputId": "fbeb16fe-4a40-4a19-e8a5-38f2d9e9d840"
   },
   "outputs": [
    {
     "data": {
      "text/plain": [
       "array([[ 894,  152],\n",
       "       [ 288, 1038]], dtype=int64)"
      ]
     },
     "execution_count": 38,
     "metadata": {},
     "output_type": "execute_result"
    }
   ],
   "source": [
    "confusion_matrix(y_train, y_pred_train_NB)"
   ]
  },
  {
   "cell_type": "code",
   "execution_count": 39,
   "id": "dbe61e35",
   "metadata": {
    "id": "dbe61e35"
   },
   "outputs": [],
   "source": [
    "y_pred_test_NB=gnb.predict(X_test)"
   ]
  },
  {
   "cell_type": "code",
   "execution_count": 40,
   "id": "a6987f20",
   "metadata": {
    "colab": {
     "base_uri": "https://localhost:8080/"
    },
    "id": "a6987f20",
    "outputId": "dec38bdf-d0c5-4ec8-9f0c-b0cbb65e5414"
   },
   "outputs": [
    {
     "data": {
      "text/plain": [
       "0.803030303030303"
      ]
     },
     "execution_count": 40,
     "metadata": {},
     "output_type": "execute_result"
    }
   ],
   "source": [
    "accuracy_score(y_test, y_pred_test_NB)"
   ]
  },
  {
   "cell_type": "code",
   "execution_count": 41,
   "id": "fbf8b620",
   "metadata": {
    "colab": {
     "base_uri": "https://localhost:8080/"
    },
    "id": "fbf8b620",
    "outputId": "425cfd42-9829-44eb-87ef-c9dac90589fc"
   },
   "outputs": [
    {
     "data": {
      "text/plain": [
       "array([[228,  53],\n",
       "       [ 64, 249]], dtype=int64)"
      ]
     },
     "execution_count": 41,
     "metadata": {},
     "output_type": "execute_result"
    }
   ],
   "source": [
    "confusion_matrix(y_test, y_pred_test_NB)"
   ]
  },
  {
   "cell_type": "markdown",
   "id": "0d8cfe26",
   "metadata": {
    "id": "0d8cfe26"
   },
   "source": [
    "### Support Vector Machine"
   ]
  },
  {
   "cell_type": "code",
   "execution_count": 42,
   "id": "a013647f",
   "metadata": {
    "id": "a013647f"
   },
   "outputs": [],
   "source": [
    "from sklearn.svm import SVC\n",
    "svc = SVC()"
   ]
  },
  {
   "cell_type": "code",
   "execution_count": 43,
   "id": "4720dd85",
   "metadata": {
    "colab": {
     "base_uri": "https://localhost:8080/",
     "height": 74
    },
    "id": "4720dd85",
    "outputId": "51fd14a4-8efd-407c-ad60-74334298287f"
   },
   "outputs": [
    {
     "data": {
      "text/plain": [
       "SVC()"
      ]
     },
     "execution_count": 43,
     "metadata": {},
     "output_type": "execute_result"
    }
   ],
   "source": [
    "svc.fit(X_train, y_train)"
   ]
  },
  {
   "cell_type": "code",
   "execution_count": 44,
   "id": "d102efc5",
   "metadata": {
    "id": "d102efc5"
   },
   "outputs": [],
   "source": [
    "y_pred_train_SVM=svc.predict(X_train)"
   ]
  },
  {
   "cell_type": "code",
   "execution_count": 45,
   "id": "39260a30",
   "metadata": {
    "colab": {
     "base_uri": "https://localhost:8080/"
    },
    "id": "39260a30",
    "outputId": "467d47cf-353f-4f89-d04a-7b83928be60b"
   },
   "outputs": [
    {
     "data": {
      "text/plain": [
       "0.7668634064080945"
      ]
     },
     "execution_count": 45,
     "metadata": {},
     "output_type": "execute_result"
    }
   ],
   "source": [
    "accuracy_score(y_train, y_pred_train_SVM)"
   ]
  },
  {
   "cell_type": "code",
   "execution_count": 46,
   "id": "59f338d3",
   "metadata": {
    "colab": {
     "base_uri": "https://localhost:8080/"
    },
    "id": "59f338d3",
    "outputId": "4a77e53e-b9e2-416e-a3c2-1e22f26a3f44"
   },
   "outputs": [
    {
     "data": {
      "text/plain": [
       "array([[ 804,  242],\n",
       "       [ 311, 1015]], dtype=int64)"
      ]
     },
     "execution_count": 46,
     "metadata": {},
     "output_type": "execute_result"
    }
   ],
   "source": [
    "confusion_matrix(y_train, y_pred_train_SVM)"
   ]
  },
  {
   "cell_type": "code",
   "execution_count": 47,
   "id": "fdcc729b",
   "metadata": {
    "id": "fdcc729b"
   },
   "outputs": [],
   "source": [
    "y_pred_test_SVM=svc.predict(X_test)"
   ]
  },
  {
   "cell_type": "code",
   "execution_count": 48,
   "id": "0714a2cc",
   "metadata": {
    "colab": {
     "base_uri": "https://localhost:8080/"
    },
    "id": "0714a2cc",
    "outputId": "f2308a7a-508a-4454-cceb-5cfb42be492f"
   },
   "outputs": [
    {
     "data": {
      "text/plain": [
       "0.7643097643097643"
      ]
     },
     "execution_count": 48,
     "metadata": {},
     "output_type": "execute_result"
    }
   ],
   "source": [
    "accuracy_score(y_test, y_pred_test_SVM)"
   ]
  },
  {
   "cell_type": "code",
   "execution_count": 49,
   "id": "7cf35bfc",
   "metadata": {
    "colab": {
     "base_uri": "https://localhost:8080/"
    },
    "id": "7cf35bfc",
    "outputId": "da84c14c-7558-4595-939e-0965635acb84"
   },
   "outputs": [
    {
     "data": {
      "text/plain": [
       "array([[208,  73],\n",
       "       [ 67, 246]], dtype=int64)"
      ]
     },
     "execution_count": 49,
     "metadata": {},
     "output_type": "execute_result"
    }
   ],
   "source": [
    "confusion_matrix(y_test, y_pred_test_SVM)"
   ]
  },
  {
   "cell_type": "markdown",
   "id": "f440dd60",
   "metadata": {
    "id": "f440dd60"
   },
   "source": [
    "### Decision Tree"
   ]
  },
  {
   "cell_type": "code",
   "execution_count": 50,
   "id": "9c618448",
   "metadata": {
    "id": "9c618448"
   },
   "outputs": [],
   "source": [
    "from sklearn.tree import DecisionTreeClassifier\n",
    "clf = DecisionTreeClassifier()"
   ]
  },
  {
   "cell_type": "code",
   "execution_count": 51,
   "id": "78f179f0",
   "metadata": {
    "colab": {
     "base_uri": "https://localhost:8080/",
     "height": 74
    },
    "id": "78f179f0",
    "outputId": "6bffac92-7fa2-4d68-ce44-8a5c4805a549"
   },
   "outputs": [
    {
     "data": {
      "text/plain": [
       "DecisionTreeClassifier()"
      ]
     },
     "execution_count": 51,
     "metadata": {},
     "output_type": "execute_result"
    }
   ],
   "source": [
    "clf.fit(X_train, y_train)"
   ]
  },
  {
   "cell_type": "code",
   "execution_count": 52,
   "id": "fd4095ac",
   "metadata": {
    "id": "fd4095ac"
   },
   "outputs": [],
   "source": [
    "y_pred_train_DTC=clf.predict(X_train)"
   ]
  },
  {
   "cell_type": "code",
   "execution_count": 53,
   "id": "ec50058a",
   "metadata": {
    "colab": {
     "base_uri": "https://localhost:8080/"
    },
    "id": "ec50058a",
    "outputId": "90da7ee3-e44d-4131-d107-83cd7d3f2bbc"
   },
   "outputs": [
    {
     "data": {
      "text/plain": [
       "0.9190556492411467"
      ]
     },
     "execution_count": 53,
     "metadata": {},
     "output_type": "execute_result"
    }
   ],
   "source": [
    "accuracy_score(y_train, y_pred_train_DTC)"
   ]
  },
  {
   "cell_type": "code",
   "execution_count": 54,
   "id": "ffe13e94",
   "metadata": {
    "colab": {
     "base_uri": "https://localhost:8080/"
    },
    "id": "ffe13e94",
    "outputId": "4f45e048-d4a1-4f97-de60-ba1a3ea64cd8"
   },
   "outputs": [
    {
     "data": {
      "text/plain": [
       "array([[1016,   30],\n",
       "       [ 162, 1164]], dtype=int64)"
      ]
     },
     "execution_count": 54,
     "metadata": {},
     "output_type": "execute_result"
    }
   ],
   "source": [
    "confusion_matrix(y_train, y_pred_train_DTC)"
   ]
  },
  {
   "cell_type": "code",
   "execution_count": 55,
   "id": "5053a94b",
   "metadata": {
    "id": "5053a94b"
   },
   "outputs": [],
   "source": [
    "y_pred_test_DTC=clf.predict(X_test)"
   ]
  },
  {
   "cell_type": "code",
   "execution_count": 56,
   "id": "a3721cb6",
   "metadata": {
    "colab": {
     "base_uri": "https://localhost:8080/"
    },
    "id": "a3721cb6",
    "outputId": "bb3a6a29-889c-4982-b256-18b3fd8963b0"
   },
   "outputs": [
    {
     "data": {
      "text/plain": [
       "0.8636363636363636"
      ]
     },
     "execution_count": 56,
     "metadata": {},
     "output_type": "execute_result"
    }
   ],
   "source": [
    "accuracy_score(y_test, y_pred_test_DTC)"
   ]
  },
  {
   "cell_type": "code",
   "execution_count": 57,
   "id": "f9390960",
   "metadata": {
    "colab": {
     "base_uri": "https://localhost:8080/"
    },
    "id": "f9390960",
    "outputId": "5e6452db-ca27-455e-c198-081ff02c2c7b"
   },
   "outputs": [
    {
     "data": {
      "text/plain": [
       "array([[250,  31],\n",
       "       [ 50, 263]], dtype=int64)"
      ]
     },
     "execution_count": 57,
     "metadata": {},
     "output_type": "execute_result"
    }
   ],
   "source": [
    "confusion_matrix(y_test, y_pred_test_DTC)"
   ]
  },
  {
   "cell_type": "markdown",
   "id": "9e9ea2ee",
   "metadata": {
    "id": "9e9ea2ee"
   },
   "source": [
    "### Random Forest Classifier"
   ]
  },
  {
   "cell_type": "code",
   "execution_count": 58,
   "id": "1fbe0455",
   "metadata": {
    "id": "1fbe0455"
   },
   "outputs": [],
   "source": [
    "from sklearn.ensemble import RandomForestClassifier\n",
    "rf= RandomForestClassifier()"
   ]
  },
  {
   "cell_type": "code",
   "execution_count": 59,
   "id": "a5b9b633",
   "metadata": {
    "colab": {
     "base_uri": "https://localhost:8080/",
     "height": 74
    },
    "id": "a5b9b633",
    "outputId": "0747405a-218c-4c4d-975f-7dc7321be69b"
   },
   "outputs": [
    {
     "data": {
      "text/plain": [
       "RandomForestClassifier()"
      ]
     },
     "execution_count": 59,
     "metadata": {},
     "output_type": "execute_result"
    }
   ],
   "source": [
    "rf.fit(X_train, y_train)"
   ]
  },
  {
   "cell_type": "code",
   "execution_count": 60,
   "id": "b68e77ef",
   "metadata": {
    "id": "b68e77ef"
   },
   "outputs": [],
   "source": [
    "y_pred_train_RF=rf.predict(X_train)"
   ]
  },
  {
   "cell_type": "code",
   "execution_count": 61,
   "id": "4e4e38a5",
   "metadata": {
    "colab": {
     "base_uri": "https://localhost:8080/"
    },
    "id": "4e4e38a5",
    "outputId": "3cb3a942-bc93-4382-f7cc-1aae0a53c943"
   },
   "outputs": [
    {
     "data": {
      "text/plain": [
       "0.9190556492411467"
      ]
     },
     "execution_count": 61,
     "metadata": {},
     "output_type": "execute_result"
    }
   ],
   "source": [
    "accuracy_score(y_train, y_pred_train_RF)"
   ]
  },
  {
   "cell_type": "code",
   "execution_count": 62,
   "id": "c0fa389f",
   "metadata": {
    "colab": {
     "base_uri": "https://localhost:8080/"
    },
    "id": "c0fa389f",
    "outputId": "8c9b702b-5f7c-4869-dcb5-40c84ce07062"
   },
   "outputs": [
    {
     "data": {
      "text/plain": [
       "array([[1003,   43],\n",
       "       [ 149, 1177]], dtype=int64)"
      ]
     },
     "execution_count": 62,
     "metadata": {},
     "output_type": "execute_result"
    }
   ],
   "source": [
    "confusion_matrix(y_train, y_pred_train_RF)"
   ]
  },
  {
   "cell_type": "code",
   "execution_count": 63,
   "id": "680fff6c",
   "metadata": {
    "id": "680fff6c"
   },
   "outputs": [],
   "source": [
    "y_pred_test_RF=rf.predict(X_test)"
   ]
  },
  {
   "cell_type": "code",
   "execution_count": 64,
   "id": "488c2e14",
   "metadata": {
    "colab": {
     "base_uri": "https://localhost:8080/"
    },
    "id": "488c2e14",
    "outputId": "8e5ac9bf-c6d9-4e66-da27-d12ee8c2f5e8"
   },
   "outputs": [
    {
     "data": {
      "text/plain": [
       "0.8703703703703703"
      ]
     },
     "execution_count": 64,
     "metadata": {},
     "output_type": "execute_result"
    }
   ],
   "source": [
    "accuracy_score(y_test, y_pred_test_RF)"
   ]
  },
  {
   "cell_type": "code",
   "execution_count": 65,
   "id": "5ca95339",
   "metadata": {
    "colab": {
     "base_uri": "https://localhost:8080/"
    },
    "id": "5ca95339",
    "outputId": "6a536dcc-913d-4bc5-e75e-ee9cdc6b36b5"
   },
   "outputs": [
    {
     "data": {
      "text/plain": [
       "array([[253,  28],\n",
       "       [ 49, 264]], dtype=int64)"
      ]
     },
     "execution_count": 65,
     "metadata": {},
     "output_type": "execute_result"
    }
   ],
   "source": [
    "confusion_matrix(y_test, y_pred_test_RF)"
   ]
  },
  {
   "cell_type": "markdown",
   "id": "578b1515",
   "metadata": {
    "id": "578b1515"
   },
   "source": [
    "### K Nearest Neighbour"
   ]
  },
  {
   "cell_type": "code",
   "execution_count": 66,
   "id": "89d1d558",
   "metadata": {
    "id": "89d1d558"
   },
   "outputs": [],
   "source": [
    "from sklearn import neighbors\n",
    "knn = neighbors.KNeighborsClassifier(n_neighbors=2)"
   ]
  },
  {
   "cell_type": "code",
   "execution_count": 67,
   "id": "d0ea2996",
   "metadata": {
    "colab": {
     "base_uri": "https://localhost:8080/",
     "height": 74
    },
    "id": "d0ea2996",
    "outputId": "0f52c93d-ba4b-48c0-a833-6fce721ead5d"
   },
   "outputs": [
    {
     "data": {
      "text/plain": [
       "KNeighborsClassifier(n_neighbors=2)"
      ]
     },
     "execution_count": 67,
     "metadata": {},
     "output_type": "execute_result"
    }
   ],
   "source": [
    "knn.fit(X_train, y_train)"
   ]
  },
  {
   "cell_type": "code",
   "execution_count": 68,
   "id": "0ef009c8",
   "metadata": {
    "id": "0ef009c8"
   },
   "outputs": [],
   "source": [
    "y_pred_train_KNN=knn.predict(X_train)"
   ]
  },
  {
   "cell_type": "code",
   "execution_count": 69,
   "id": "143769d8",
   "metadata": {
    "colab": {
     "base_uri": "https://localhost:8080/"
    },
    "id": "143769d8",
    "outputId": "f8c2823d-ccd8-4348-bf9c-c7ecc75e4289"
   },
   "outputs": [
    {
     "data": {
      "text/plain": [
       "0.8996627318718381"
      ]
     },
     "execution_count": 69,
     "metadata": {},
     "output_type": "execute_result"
    }
   ],
   "source": [
    "accuracy_score(y_train, y_pred_train_KNN)"
   ]
  },
  {
   "cell_type": "code",
   "execution_count": 70,
   "id": "ae905da8",
   "metadata": {
    "colab": {
     "base_uri": "https://localhost:8080/"
    },
    "id": "ae905da8",
    "outputId": "1ba6f858-7ca2-4afd-e89d-0e7577eb8939"
   },
   "outputs": [
    {
     "data": {
      "text/plain": [
       "array([[1012,   34],\n",
       "       [ 204, 1122]], dtype=int64)"
      ]
     },
     "execution_count": 70,
     "metadata": {},
     "output_type": "execute_result"
    }
   ],
   "source": [
    "confusion_matrix(y_train, y_pred_train_KNN)"
   ]
  },
  {
   "cell_type": "code",
   "execution_count": 71,
   "id": "aa34b691",
   "metadata": {
    "id": "aa34b691"
   },
   "outputs": [],
   "source": [
    "y_pred_test_KNN=knn.predict(X_test)"
   ]
  },
  {
   "cell_type": "code",
   "execution_count": 72,
   "id": "5ee2a95c",
   "metadata": {
    "colab": {
     "base_uri": "https://localhost:8080/"
    },
    "id": "5ee2a95c",
    "outputId": "f7300690-5ace-4abb-8f69-36860396c15a"
   },
   "outputs": [
    {
     "data": {
      "text/plain": [
       "0.8703703703703703"
      ]
     },
     "execution_count": 72,
     "metadata": {},
     "output_type": "execute_result"
    }
   ],
   "source": [
    "accuracy_score(y_test, y_pred_test_KNN)"
   ]
  },
  {
   "cell_type": "code",
   "execution_count": 73,
   "id": "40e7d57f",
   "metadata": {
    "colab": {
     "base_uri": "https://localhost:8080/"
    },
    "id": "40e7d57f",
    "outputId": "66ca1957-4fd2-4f53-9b4a-6e2340bb4def"
   },
   "outputs": [
    {
     "data": {
      "text/plain": [
       "array([[262,  19],\n",
       "       [ 58, 255]], dtype=int64)"
      ]
     },
     "execution_count": 73,
     "metadata": {},
     "output_type": "execute_result"
    }
   ],
   "source": [
    "confusion_matrix(y_test, y_pred_test_KNN)"
   ]
  },
  {
   "cell_type": "markdown",
   "id": "1b2146e6",
   "metadata": {
    "id": "1b2146e6"
   },
   "source": [
    "### XGBoost Classifier"
   ]
  },
  {
   "cell_type": "code",
   "execution_count": 74,
   "id": "d6f9fffc",
   "metadata": {
    "colab": {
     "base_uri": "https://localhost:8080/"
    },
    "id": "d6f9fffc",
    "outputId": "507b5e70-d220-4508-b3c4-ae579ad8579e"
   },
   "outputs": [
    {
     "name": "stdout",
     "output_type": "stream",
     "text": [
      "Collecting xgboost"
     ]
    },
    {
     "name": "stderr",
     "output_type": "stream",
     "text": [
      "\n",
      "[notice] A new release of pip available: 23.2 -> 23.2.1\n",
      "[notice] To update, run: python.exe -m pip install --upgrade pip\n"
     ]
    },
    {
     "name": "stdout",
     "output_type": "stream",
     "text": [
      "\n",
      "  Downloading xgboost-1.7.6-py3-none-win_amd64.whl (70.9 MB)\n",
      "     ---------------------------------------- 70.9/70.9 MB 3.5 MB/s eta 0:00:00\n",
      "Requirement already satisfied: numpy in e:\\anaconda\\lib\\site-packages (from xgboost) (1.21.5)\n",
      "Requirement already satisfied: scipy in e:\\anaconda\\lib\\site-packages (from xgboost) (1.9.1)\n",
      "Installing collected packages: xgboost\n",
      "Successfully installed xgboost-1.7.6\n"
     ]
    }
   ],
   "source": [
    "! pip install xgboost"
   ]
  },
  {
   "cell_type": "code",
   "execution_count": 75,
   "id": "7b9f5744",
   "metadata": {
    "id": "7b9f5744"
   },
   "outputs": [],
   "source": [
    "from xgboost import XGBClassifier\n",
    "xgb = XGBClassifier()"
   ]
  },
  {
   "cell_type": "code",
   "execution_count": 76,
   "id": "629966b1",
   "metadata": {
    "colab": {
     "base_uri": "https://localhost:8080/",
     "height": 248
    },
    "id": "629966b1",
    "outputId": "51dc8dac-db4d-4720-c42a-a3eb3e687cfe"
   },
   "outputs": [
    {
     "data": {
      "text/plain": [
       "XGBClassifier(base_score=None, booster=None, callbacks=None,\n",
       "              colsample_bylevel=None, colsample_bynode=None,\n",
       "              colsample_bytree=None, early_stopping_rounds=None,\n",
       "              enable_categorical=False, eval_metric=None, feature_types=None,\n",
       "              gamma=None, gpu_id=None, grow_policy=None, importance_type=None,\n",
       "              interaction_constraints=None, learning_rate=None, max_bin=None,\n",
       "              max_cat_threshold=None, max_cat_to_onehot=None,\n",
       "              max_delta_step=None, max_depth=None, max_leaves=None,\n",
       "              min_child_weight=None, missing=nan, monotone_constraints=None,\n",
       "              n_estimators=100, n_jobs=None, num_parallel_tree=None,\n",
       "              predictor=None, random_state=None, ...)"
      ]
     },
     "execution_count": 76,
     "metadata": {},
     "output_type": "execute_result"
    }
   ],
   "source": [
    "xgb.fit(X_train, y_train)"
   ]
  },
  {
   "cell_type": "code",
   "execution_count": 77,
   "id": "8ceb98ca",
   "metadata": {
    "id": "8ceb98ca"
   },
   "outputs": [],
   "source": [
    "y_pred_train_XGB=xgb.predict(X_train)"
   ]
  },
  {
   "cell_type": "code",
   "execution_count": 78,
   "id": "73ab7dd8",
   "metadata": {
    "colab": {
     "base_uri": "https://localhost:8080/"
    },
    "id": "73ab7dd8",
    "outputId": "60f91c79-7475-4221-cea5-4e6d19a579fc"
   },
   "outputs": [
    {
     "data": {
      "text/plain": [
       "0.9148397976391232"
      ]
     },
     "execution_count": 78,
     "metadata": {},
     "output_type": "execute_result"
    }
   ],
   "source": [
    "accuracy_score(y_train, y_pred_train_XGB)"
   ]
  },
  {
   "cell_type": "code",
   "execution_count": 79,
   "id": "082a36c3",
   "metadata": {
    "colab": {
     "base_uri": "https://localhost:8080/"
    },
    "id": "082a36c3",
    "outputId": "d97d66f2-33a6-4135-b94d-36efdcd337d7"
   },
   "outputs": [
    {
     "data": {
      "text/plain": [
       "array([[1014,   32],\n",
       "       [ 170, 1156]], dtype=int64)"
      ]
     },
     "execution_count": 79,
     "metadata": {},
     "output_type": "execute_result"
    }
   ],
   "source": [
    "confusion_matrix(y_train, y_pred_train_XGB)"
   ]
  },
  {
   "cell_type": "code",
   "execution_count": 80,
   "id": "6e1cea87",
   "metadata": {
    "id": "6e1cea87"
   },
   "outputs": [],
   "source": [
    "y_pred_test_XGB = xgb.predict(X_test)"
   ]
  },
  {
   "cell_type": "code",
   "execution_count": 81,
   "id": "41134a94",
   "metadata": {
    "colab": {
     "base_uri": "https://localhost:8080/"
    },
    "id": "41134a94",
    "outputId": "e33d6bba-6a74-4a5f-c84e-e2f8071f8dc6"
   },
   "outputs": [
    {
     "data": {
      "text/plain": [
       "0.8737373737373737"
      ]
     },
     "execution_count": 81,
     "metadata": {},
     "output_type": "execute_result"
    }
   ],
   "source": [
    "accuracy_score(y_test, y_pred_test_XGB)"
   ]
  },
  {
   "cell_type": "code",
   "execution_count": 82,
   "id": "a2db0db6",
   "metadata": {
    "colab": {
     "base_uri": "https://localhost:8080/"
    },
    "id": "a2db0db6",
    "outputId": "9ee8d840-f704-4d14-c2b7-96fdf27a01e8"
   },
   "outputs": [
    {
     "data": {
      "text/plain": [
       "array([[256,  25],\n",
       "       [ 50, 263]], dtype=int64)"
      ]
     },
     "execution_count": 82,
     "metadata": {},
     "output_type": "execute_result"
    }
   ],
   "source": [
    "confusion_matrix(y_test, y_pred_test_XGB)"
   ]
  },
  {
   "cell_type": "markdown",
   "id": "7e57808b",
   "metadata": {
    "id": "7e57808b"
   },
   "source": [
    "### Max Voting Ensemble"
   ]
  },
  {
   "cell_type": "code",
   "execution_count": 83,
   "id": "caadd3d9",
   "metadata": {
    "id": "caadd3d9"
   },
   "outputs": [],
   "source": [
    "from sklearn.ensemble import VotingClassifier\n",
    "\n",
    "vote = VotingClassifier(\n",
    "    estimators=[\n",
    "        ('LogR', LogR),\n",
    "        ('gnb', gnb),\n",
    "        ('svc', svc),\n",
    "        ('clf', clf),\n",
    "        ('rf', rf),\n",
    "        ('knn', knn),\n",
    "        ('xgb', xgb)\n",
    "    ],\n",
    "    voting='hard'\n",
    ")"
   ]
  },
  {
   "cell_type": "code",
   "execution_count": 84,
   "id": "8a013599",
   "metadata": {
    "colab": {
     "base_uri": "https://localhost:8080/",
     "height": 108
    },
    "id": "8a013599",
    "outputId": "01ed6b5b-2f06-4b12-e6ac-ae92d20f48e3"
   },
   "outputs": [
    {
     "data": {
      "text/plain": [
       "VotingClassifier(estimators=[('LogR', LogisticRegression()),\n",
       "                             ('gnb', GaussianNB()), ('svc', SVC()),\n",
       "                             ('clf', DecisionTreeClassifier()),\n",
       "                             ('rf', RandomForestClassifier()),\n",
       "                             ('knn', KNeighborsClassifier(n_neighbors=2)),\n",
       "                             ('xgb',\n",
       "                              XGBClassifier(base_score=None, booster=None,\n",
       "                                            callbacks=None,\n",
       "                                            colsample_bylevel=None,\n",
       "                                            colsample_bynode=None,\n",
       "                                            colsample_bytree=None,\n",
       "                                            early_stopping_...\n",
       "                                            gpu_id=None, grow_policy=None,\n",
       "                                            importance_type=None,\n",
       "                                            interaction_constraints=None,\n",
       "                                            learning_rate=None, max_bin=None,\n",
       "                                            max_cat_threshold=None,\n",
       "                                            max_cat_to_onehot=None,\n",
       "                                            max_delta_step=None, max_depth=None,\n",
       "                                            max_leaves=None,\n",
       "                                            min_child_weight=None, missing=nan,\n",
       "                                            monotone_constraints=None,\n",
       "                                            n_estimators=100, n_jobs=None,\n",
       "                                            num_parallel_tree=None,\n",
       "                                            predictor=None, random_state=None, ...))])"
      ]
     },
     "execution_count": 84,
     "metadata": {},
     "output_type": "execute_result"
    }
   ],
   "source": [
    "vote.fit(X_train, y_train)"
   ]
  },
  {
   "cell_type": "code",
   "execution_count": 85,
   "id": "747b0229",
   "metadata": {
    "id": "747b0229"
   },
   "outputs": [],
   "source": [
    "y_pred_train_MV=vote.predict(X_train)"
   ]
  },
  {
   "cell_type": "code",
   "execution_count": 86,
   "id": "db429cfe",
   "metadata": {
    "colab": {
     "base_uri": "https://localhost:8080/"
    },
    "id": "db429cfe",
    "outputId": "1ee9f2f0-8ba1-44e4-c4ef-077420d4ea93"
   },
   "outputs": [
    {
     "data": {
      "text/plain": [
       "0.9127318718381113"
      ]
     },
     "execution_count": 86,
     "metadata": {},
     "output_type": "execute_result"
    }
   ],
   "source": [
    "accuracy_score(y_train, y_pred_train_MV)"
   ]
  },
  {
   "cell_type": "code",
   "execution_count": 87,
   "id": "454c73a3",
   "metadata": {
    "colab": {
     "base_uri": "https://localhost:8080/"
    },
    "id": "454c73a3",
    "outputId": "6095c1a3-9d20-4c48-dc24-703ce6721658"
   },
   "outputs": [
    {
     "data": {
      "text/plain": [
       "array([[1012,   34],\n",
       "       [ 173, 1153]], dtype=int64)"
      ]
     },
     "execution_count": 87,
     "metadata": {},
     "output_type": "execute_result"
    }
   ],
   "source": [
    "confusion_matrix(y_train, y_pred_train_MV)"
   ]
  },
  {
   "cell_type": "code",
   "execution_count": 88,
   "id": "0bd3137d",
   "metadata": {
    "id": "0bd3137d"
   },
   "outputs": [],
   "source": [
    "y_pred_test_MV=vote.predict(X_test)"
   ]
  },
  {
   "cell_type": "code",
   "execution_count": 89,
   "id": "61d12fbf",
   "metadata": {
    "colab": {
     "base_uri": "https://localhost:8080/"
    },
    "id": "61d12fbf",
    "outputId": "f18d8fb3-16fe-40d9-9df1-0a1c5bc86bff"
   },
   "outputs": [
    {
     "data": {
      "text/plain": [
       "0.8602693602693603"
      ]
     },
     "execution_count": 89,
     "metadata": {},
     "output_type": "execute_result"
    }
   ],
   "source": [
    "accuracy_score(y_test, y_pred_test_MV)"
   ]
  },
  {
   "cell_type": "code",
   "execution_count": 90,
   "id": "0e780a9e",
   "metadata": {
    "colab": {
     "base_uri": "https://localhost:8080/"
    },
    "id": "0e780a9e",
    "outputId": "e2066309-e2a8-408e-8e1a-d699d51cdccb"
   },
   "outputs": [
    {
     "data": {
      "text/plain": [
       "array([[252,  29],\n",
       "       [ 54, 259]], dtype=int64)"
      ]
     },
     "execution_count": 90,
     "metadata": {},
     "output_type": "execute_result"
    }
   ],
   "source": [
    "confusion_matrix(y_test, y_pred_test_MV)"
   ]
  },
  {
   "cell_type": "code",
   "execution_count": 91,
   "id": "30b90b0d",
   "metadata": {
    "id": "30b90b0d"
   },
   "outputs": [],
   "source": [
    "import pickle"
   ]
  },
  {
   "cell_type": "code",
   "execution_count": 92,
   "id": "b93bf769",
   "metadata": {},
   "outputs": [],
   "source": [
    "pickle.dump(vote,open(\"placed.pkl\",\"wb\"))"
   ]
  }
 ],
 "metadata": {
  "colab": {
   "provenance": []
  },
  "kernelspec": {
   "display_name": "Python 3 (ipykernel)",
   "language": "python",
   "name": "python3"
  },
  "language_info": {
   "codemirror_mode": {
    "name": "ipython",
    "version": 3
   },
   "file_extension": ".py",
   "mimetype": "text/x-python",
   "name": "python",
   "nbconvert_exporter": "python",
   "pygments_lexer": "ipython3",
   "version": "3.9.13"
  }
 },
 "nbformat": 4,
 "nbformat_minor": 5
}
